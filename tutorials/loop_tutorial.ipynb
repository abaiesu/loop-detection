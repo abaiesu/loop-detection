{
 "cells": [
  {
   "cell_type": "markdown",
   "id": "6adb22ba-3b68-4bbc-ae3a-d6b80a8404dc",
   "metadata": {},
   "source": [
    "# Loop Detection Tutorial"
   ]
  },
  {
   "cell_type": "code",
   "execution_count": 15,
   "id": "ef23cde7-c0a5-4afb-a0fe-de151878e757",
   "metadata": {},
   "outputs": [],
   "source": [
    "from loop_detection import loop_detection, Range, get_UC\n",
    "from loop_detection.loop_detection_code import get_rule_set, get_aliases\n",
    "from tests.testing_helpers import create_collection_rules, generate_fw_tables, print_from_fw_tables"
   ]
  },
  {
   "cell_type": "markdown",
   "id": "d223de3b-1e3e-4f99-aeed-ebd8678e004d",
   "metadata": {},
   "source": [
    "Take the following fowarding tables"
   ]
  },
  {
   "cell_type": "code",
   "execution_count": 16,
   "id": "7fabbe77-4418-4a95-a65c-d46e25b5e1b4",
   "metadata": {},
   "outputs": [
    {
     "data": {
      "text/plain": [
       "{0: [('R1', [1, 5], 1),\n",
       "  ('R2', [1, 4], 1),\n",
       "  ('R3', [0, 1], None),\n",
       "  ('H0', [0, 5], None)],\n",
       " 1: [('R4', [2, 4], 3), ('H1', [0, 5], None)],\n",
       " 2: [('R5', [0, 4], 3), ('H2', [0, 5], None)],\n",
       " 3: [('R7', [2, 3], 1), ('R6', [4, 5], None), ('H3', [0, 5], None)]}"
      ]
     },
     "execution_count": 16,
     "metadata": {},
     "output_type": "execute_result"
    }
   ],
   "source": [
    "# each node has a base rule H but the actions for the base rule can differ\n",
    "\n",
    "fw_tables = {i : [] for i in range(4)}\n",
    "\n",
    "fw_tables[0] = [('R1', Range(1,5), 1), \n",
    "                ('R2', Range(1,4), 1), \n",
    "                ('R3', Range(0,1), None),\n",
    "                ('H0', Range(0,5), None)]\n",
    "\n",
    "fw_tables[1] =  [('R4', Range(2,4), 3), \n",
    "                 ('H1', Range(0,5), None)]\n",
    "\n",
    "fw_tables[2] = [('R5', Range(0, 4), 3), \n",
    "                ('H2', Range(0,5), None)]\n",
    "\n",
    "fw_tables[3] =  [('R7', Range(2,3), 1),\n",
    "                 ('R6', Range(4, 5), None), \n",
    "                 ('H3', Range(0,5), None)]\n",
    "\n",
    "fw_tables"
   ]
  },
  {
   "cell_type": "code",
   "execution_count": 17,
   "id": "736cfe2e-0545-4f57-b303-2a144bc31b6a",
   "metadata": {},
   "outputs": [
    {
     "data": {
      "image/png": "[encoded data removed]",
      "text/plain": [
       "<Figure size 400x200 with 1 Axes>"
      ]
     },
     "metadata": {},
     "output_type": "display_data"
    }
   ],
   "source": [
    "print_from_fw_tables(fw_tables)"
   ]
  },
  {
   "cell_type": "markdown",
   "id": "865a7436-6d0a-486e-89bc-d296e9c91750",
   "metadata": {},
   "source": [
    "There is a loop between 1 and 3."
   ]
  },
  {
   "cell_type": "markdown",
   "id": "c5db87eb-a26c-4bd6-a932-7c37817f63cc",
   "metadata": {},
   "source": [
    "Let us check the rule set of the network."
   ]
  },
  {
   "cell_type": "code",
   "execution_count": 18,
   "id": "c0260192-140a-464c-a860-d4adb5732cfa",
   "metadata": {},
   "outputs": [
    {
     "data": {
      "text/plain": [
       "{'R1': (0, [1, 5], 1),\n",
       " 'R2': (0, [1, 4], 1),\n",
       " 'R3': (0, [0, 1], None),\n",
       " 'H0': (0, [0, 5], None),\n",
       " 'R4': (1, [2, 4], 3),\n",
       " 'H1': (1, [0, 5], None),\n",
       " 'R5': (2, [0, 4], 3),\n",
       " 'H2': (2, [0, 5], None),\n",
       " 'R7': (3, [2, 3], 1),\n",
       " 'R6': (3, [4, 5], None),\n",
       " 'H3': (3, [0, 5], None)}"
      ]
     },
     "execution_count": 18,
     "metadata": {},
     "output_type": "execute_result"
    }
   ],
   "source": [
    "rule_set = get_rule_set(fw_tables)\n",
    "rule_set"
   ]
  },
  {
   "cell_type": "markdown",
   "id": "9bd0d304-d4cd-4673-a819-365cf9dc7efd",
   "metadata": {},
   "source": [
    "Note that H0, H1, H2, H3 are different names for the same rule (at different locations). \n",
    "\n",
    "\n",
    "Remove such redundant copies."
   ]
  },
  {
   "cell_type": "code",
   "execution_count": 19,
   "id": "1fc32b02-9a08-44df-aaad-afe86195f0bd",
   "metadata": {},
   "outputs": [
    {
     "data": {
      "text/plain": [
       "{('H0', [0, 5]),\n",
       " ('R1', [1, 5]),\n",
       " ('R2', [1, 4]),\n",
       " ('R3', [0, 1]),\n",
       " ('R4', [2, 4]),\n",
       " ('R5', [0, 4]),\n",
       " ('R6', [4, 5]),\n",
       " ('R7', [2, 3])}"
      ]
     },
     "execution_count": 19,
     "metadata": {},
     "output_type": "execute_result"
    }
   ],
   "source": [
    "aliases = get_aliases(rule_set)\n",
    "R = [(key, values[1]) for key, values in rule_set.items()]\n",
    "unique_count = {key: 0 for key in aliases.keys()}\n",
    "R_set = set()\n",
    "for rule in R:\n",
    "    if unique_count[rule[1]] == 0:\n",
    "        R_set.add(rule)\n",
    "        unique_count[rule[1]] += 1\n",
    "R_set"
   ]
  },
  {
   "cell_type": "markdown",
   "id": "07b38826-b6d2-4d0b-8d7d-fd0699b2f4bd",
   "metadata": {},
   "source": [
    "Let us get the uncovered combinations generated by these rules."
   ]
  },
  {
   "cell_type": "code",
   "execution_count": 20,
   "id": "80341179-79a0-4aaf-8118-91d7b62ddb86",
   "metadata": {},
   "outputs": [
    {
     "name": "stdout",
     "output_type": "stream",
     "text": [
      "5 atoms :\n",
      "H0 & R5 & R3 , value = [0, 1]\n",
      "H0 & R1 & R5 & R4 & R6 , value = [4, 4]\n",
      "H0 & R1 & R5 & R3 , value = [1, 1]\n",
      "H0 & R1 & R5 & R4 & R7 , value = [2, 3]\n",
      "H0 & R1 & R6 , value = [4, 5]\n"
     ]
    }
   ],
   "source": [
    "UC = get_UC(R_set)\n",
    "print(len(UC), 'atoms :')\n",
    "for uc in UC:\n",
    "    print(uc.get_name(),', value =', uc)"
   ]
  },
  {
   "cell_type": "markdown",
   "id": "e8650177-e518-41e8-af9d-a71adbe1fedb",
   "metadata": {},
   "source": [
    "Now, let us run the loop verification."
   ]
  },
  {
   "cell_type": "code",
   "execution_count": 21,
   "id": "fac64503-3e9d-42a1-8dbb-7aa5b0838232",
   "metadata": {},
   "outputs": [
    {
     "data": {
      "text/plain": [
       "[([2, 3], [[1, 3]])]"
      ]
     },
     "execution_count": 21,
     "metadata": {},
     "output_type": "execute_result"
    }
   ],
   "source": [
    "result = loop_detection(fw_tables)\n",
    "result"
   ]
  },
  {
   "cell_type": "code",
   "execution_count": 22,
   "id": "d3e2c631-89bc-468c-8f42-272f9f42144f",
   "metadata": {},
   "outputs": [
    {
     "name": "stdout",
     "output_type": "stream",
     "text": [
      "Found a loop\n",
      "Loop followed by: H0 & R1 & R5 & R4 & R7 , value = [2, 3]\n",
      "Nodes involved: {1, 3}\n"
     ]
    }
   ],
   "source": [
    "if len(result) > 0:\n",
    "    print('Found a loop')\n",
    "    for res in result:\n",
    "        print('Loop followed by:',  res[0].get_name(), ', value =', res[0])\n",
    "        nodes_involved = set()\n",
    "        for edge in res[1]:\n",
    "            nodes_involved.add(edge[0])\n",
    "            nodes_involved.add(edge[1])\n",
    "        print('Nodes involved:', nodes_involved)"
   ]
  },
  {
   "cell_type": "markdown",
   "id": "5696d464-83f0-438d-9dc9-e633f0252292",
   "metadata": {},
   "source": [
    "Now, let's test on a random network."
   ]
  },
  {
   "cell_type": "code",
   "execution_count": 50,
   "id": "382a7be3-1e5c-496d-a227-302f6d27e98a",
   "metadata": {},
   "outputs": [
    {
     "name": "stdout",
     "output_type": "stream",
     "text": [
      "------------------------------------------------------------\n",
      "Fowarding table:\n",
      "\n",
      "Node 0\n",
      "('H0', [0, 10], None)\n",
      "('R00', [1, 8], None)\n",
      "\n",
      "Node 1\n",
      "('H1', [0, 10], None)\n",
      "('R01', [3, 9], 3)\n",
      "('R11', [7, 8], 0)\n",
      "\n",
      "Node 2\n",
      "('H2', [0, 10], None)\n",
      "('R02', [4, 8], None)\n",
      "('R12', [1, 1], 0)\n",
      "('R22', [8, 8], None)\n",
      "\n",
      "Node 3\n",
      "('H3', [0, 10], None)\n",
      "('R03', [0, 1], 4)\n",
      "('R13', [5, 10], 2)\n",
      "\n",
      "Node 4\n",
      "('H4', [0, 10], None)\n",
      "('R04', [5, 8], None)\n",
      "\n",
      "------------------------------------------------------------\n",
      "Graph of the whole network\n"
     ]
    },
    {
     "data": {
      "image/png": "[encoded data removed]",
      "text/plain": [
       "<Figure size 400x200 with 1 Axes>"
      ]
     },
     "metadata": {},
     "output_type": "display_data"
    },
    {
     "name": "stdout",
     "output_type": "stream",
     "text": [
      "------------------------------------------------------------\n",
      "0 loops detected\n",
      "\n",
      "Details:\n",
      "\n"
     ]
    }
   ],
   "source": [
    "gen_fw_tables = generate_fw_tables(5, max_range = 10)\n",
    "print('-'*60)\n",
    "print('Fowarding table:')\n",
    "print()\n",
    "for key, value in gen_fw_tables.items():\n",
    "    print('Node', key)\n",
    "    for rule in value:\n",
    "        print(rule)\n",
    "    print()\n",
    "print('-'*60)\n",
    "print(\"Graph of the whole network\")\n",
    "print_from_fw_tables(gen_fw_tables)\n",
    "result = loop_detection(gen_fw_tables)\n",
    "print('-'*60)\n",
    "nb_loops = sum(len(res[1]) for res in result)\n",
    "print(nb_loops, 'loops detected')\n",
    "print()\n",
    "print('Details:')\n",
    "print()\n",
    "for res in result:\n",
    "    print('Atom:',  res[0].get_name(), ', value =', res[0])\n",
    "    print(len(res[1]), 'loops')\n",
    "    print('Nodes involved:')\n",
    "    for i, cycle in enumerate(res[1]):\n",
    "        print('Cycle', i + 1 , ':', cycle)\n",
    "    print()"
   ]
  },
  {
   "cell_type": "code",
   "execution_count": 53,
   "id": "4d552cc9-5b57-477f-9d1e-40e082756455",
   "metadata": {},
   "outputs": [
    {
     "name": "stdout",
     "output_type": "stream",
     "text": [
      "------------------------------------------------------------\n",
      "Fowarding table:\n",
      "\n",
      "Node 0\n",
      "('H0', [0, 10], 4)\n",
      "('R00', [6, 8], 4)\n",
      "\n",
      "Node 1\n",
      "('H1', [0, 10], None)\n",
      "('R01', [0, 3], 0)\n",
      "('R11', [2, 6], None)\n",
      "('R21', [3, 6], 0)\n",
      "\n",
      "Node 2\n",
      "('H2', [0, 10], None)\n",
      "('R02', [6, 8], 3)\n",
      "('R12', [6, 10], None)\n",
      "('R22', [9, 10], None)\n",
      "\n",
      "Node 3\n",
      "('H3', [0, 10], None)\n",
      "('R03', [1, 1], 0)\n",
      "('R13', [5, 10], 1)\n",
      "('R23', [4, 8], None)\n",
      "\n",
      "Node 4\n",
      "('H4', [0, 10], None)\n",
      "('R04', [2, 5], 3)\n",
      "\n",
      "------------------------------------------------------------\n",
      "Graph of the whole network\n"
     ]
    },
    {
     "data": {
      "image/png": "[encoded data removed]",
      "text/plain": [
       "<Figure size 400x200 with 1 Axes>"
      ]
     },
     "metadata": {},
     "output_type": "display_data"
    },
    {
     "name": "stdout",
     "output_type": "stream",
     "text": [
      "------------------------------------------------------------\n",
      "1 loops detected\n",
      "\n",
      "Details:\n",
      "\n",
      "Atom: H0 & R13 & R11 & R04 , value = [5, 5]\n",
      "1 loops\n",
      "Nodes involved:\n",
      "Cycle 1 : [0, 4, 3, 1]\n",
      "\n"
     ]
    }
   ],
   "source": [
    "gen_fw_tables = generate_fw_tables(5, max_range = 10)\n",
    "print('-'*60)\n",
    "print('Fowarding table:')\n",
    "print()\n",
    "for key, value in gen_fw_tables.items():\n",
    "    print('Node', key)\n",
    "    for rule in value:\n",
    "        print(rule)\n",
    "    print()\n",
    "print('-'*60)\n",
    "print(\"Graph of the whole network\")\n",
    "print_from_fw_tables(gen_fw_tables)\n",
    "result = loop_detection(gen_fw_tables)\n",
    "print('-'*60)\n",
    "nb_loops = sum(len(res[1]) for res in result)\n",
    "print(nb_loops, 'loops detected')\n",
    "print()\n",
    "print('Details:')\n",
    "print()\n",
    "for res in result:\n",
    "    print('Atom:',  res[0].get_name(), ', value =', res[0])\n",
    "    print(len(res[1]), 'loops')\n",
    "    print('Nodes involved:')\n",
    "    for i, cycle in enumerate(res[1]):\n",
    "        print('Cycle', i + 1 , ':', cycle)\n",
    "    print()"
   ]
  },
  {
   "cell_type": "code",
   "execution_count": null,
   "id": "fc346596-8d6b-435c-95e6-2d5538c9a548",
   "metadata": {},
   "outputs": [],
   "source": []
  }
 ],
 "metadata": {
  "kernelspec": {
   "display_name": "Python 3 (ipykernel)",
   "language": "python",
   "name": "python3"
  },
  "language_info": {
   "codemirror_mode": {
    "name": "ipython",
    "version": 3
   },
   "file_extension": ".py",
   "mimetype": "text/x-python",
   "name": "python",
   "nbconvert_exporter": "python",
   "pygments_lexer": "ipython3",
   "version": "3.11.5"
  }
 },
 "nbformat": 4,
 "nbformat_minor": 5
}
